{
  "cells": [
    {
      "cell_type": "markdown",
      "metadata": {
        "id": "view-in-github",
        "colab_type": "text"
      },
      "source": [
        "<a href=\"https://colab.research.google.com/github/Indranil0603/Indranil-Sen_21JE0413_ML-Bootcamp/blob/main/logistic_regression_2.ipynb\" target=\"_parent\"><img src=\"https://colab.research.google.com/assets/colab-badge.svg\" alt=\"Open In Colab\"/></a>"
      ]
    },
    {
      "cell_type": "markdown",
      "metadata": {
        "id": "M3S6D8nrhVpE"
      },
      "source": [
        "Importig libraries"
      ]
    },
    {
      "cell_type": "code",
      "execution_count": null,
      "metadata": {
        "id": "I6ab2LmnR5Bj"
      },
      "outputs": [],
      "source": [
        "import numpy as np\n",
        "import pandas as pd\n",
        "import matplotlib.pyplot as plt"
      ]
    },
    {
      "cell_type": "markdown",
      "metadata": {
        "id": "TJa57rCUoFMS"
      },
      "source": [
        "Importing the training data"
      ]
    },
    {
      "cell_type": "code",
      "execution_count": null,
      "metadata": {
        "id": "BDsTwfBkihlx"
      },
      "outputs": [],
      "source": [
        "data_train = pd.read_csv('/content/drive/MyDrive/Data for Woc/emnist-letters-train.csv')"
      ]
    },
    {
      "cell_type": "markdown",
      "metadata": {
        "id": "wtNT8YlroNiY"
      },
      "source": [
        "Getting number of rows and columns of data"
      ]
    },
    {
      "cell_type": "code",
      "execution_count": null,
      "metadata": {
        "colab": {
          "base_uri": "https://localhost:8080/"
        },
        "id": "QXchfAEMkn5S",
        "outputId": "49268e51-8835-4eb7-823c-b09bb1856710"
      },
      "outputs": [
        {
          "output_type": "stream",
          "name": "stdout",
          "text": [
            "88799 785\n"
          ]
        }
      ],
      "source": [
        "data_rows = data_train.shape[0] #Getting number of rows of train data\n",
        "data_columns = data_train.shape[1] #Getting number of columns of train data\n",
        "print(data_rows, data_columns) "
      ]
    },
    {
      "cell_type": "code",
      "execution_count": null,
      "metadata": {
        "id": "NNo-886VkUFA"
      },
      "outputs": [],
      "source": [
        "data_train = data_train.to_numpy() #Converting train data to numpy"
      ]
    },
    {
      "cell_type": "markdown",
      "metadata": {
        "id": "sVHeQ2s7oT9Y"
      },
      "source": [
        "Making arrays for labels and features"
      ]
    },
    {
      "cell_type": "code",
      "execution_count": null,
      "metadata": {
        "id": "qlJkmcKjlQkS"
      },
      "outputs": [],
      "source": [
        "labels = data_train[0:data_rows , 0] #Making array of labels\n",
        "features = data_train[0:data_rows , 1:data_columns] #Making array of features\n",
        "fit = np.ones(data_rows , dtype= float) #Making array of ones "
      ]
    },
    {
      "cell_type": "code",
      "execution_count": null,
      "metadata": {
        "id": "ankEO8R8lXw_"
      },
      "outputs": [],
      "source": [
        "class ML_logistic:\n",
        "  def __init__(self,learningrate,X,Y,numiters,row,columns,target):\n",
        "    self.LR = learningrate\n",
        "    self.x_set = X\n",
        "    self.y_set = Y\n",
        "    self.n = numiters\n",
        "    self.n_rows = row\n",
        "    self.n_columns = columns-1\n",
        "    self.theta = np.zeros(self.n_columns, dtype = int)\n",
        "    for i in range(self.n_rows):\n",
        "      if self.y_set[i] == target:\n",
        "        self.y_set[i] = 1\n",
        "      else:\n",
        "        self.y_set[i] = 0\n",
        "\n",
        "  def hypothesis(self): #Function for calculating the hypothesis\n",
        "    self.hypo = np.dot(self.x_set, self.theta)\n",
        "    self.sigmoid1 = 1/(1+ np.exp(-1*self.hypo))\n",
        "    for i in range(self.n_rows):\n",
        "      if self.sigmoid1[i] > 0.5:\n",
        "        self.hypo[i] = 1\n",
        "      else:\n",
        "        self.hypo[i] = 0\n",
        "\n",
        "  def cost(self): #Function fro calculating the cost\n",
        "    self.hypothesis()\n",
        "    self.cost1 = 0\n",
        "    m = self.n_rows\n",
        "    ones1 = np.ones(self.n_rows, dtype = int)\n",
        "    y_t1 = np.transpose(self.y_set)\n",
        "    y_t2 = np.transpose(np.subtract(ones1,self.y_set))\n",
        "    log1 = np.log(self.sigmoid1)\n",
        "    log2 = np.log(np.subtract(ones1, self.sigmoid1))\n",
        "    term_1 = np.dot(y_t1, log1)\n",
        "    term_2 = np.dot(y_t2, log2)\n",
        "    self.cost1 = (-1/m) * (term_1 + term_2)\n",
        "    self.difference = np.subtract(self.sigmoid1, self.y_set)\n",
        "\n",
        "  def Gradientdescent(self):#Function for gradient descent\n",
        "    for self.i in range(self.n):\n",
        "      self.cost()\n",
        "      self.predicted =  np.dot(self.x_set,self.theta)\n",
        "      self.slope = np.dot(np.transpose(self.x_set),self.difference)\n",
        "      self.theta = self.theta - ((self.LR/self.n_rows)*(self.slope))\n",
        "    print(self.cost1)\n",
        "    return self.theta\n",
        "  "
      ]
    },
    {
      "cell_type": "markdown",
      "source": [
        "Roport Function"
      ],
      "metadata": {
        "id": "5vNU4ue72h1a"
      }
    },
    {
      "cell_type": "code",
      "execution_count": null,
      "metadata": {
        "id": "irQpnBfRNOC-"
      },
      "outputs": [],
      "source": [
        "def report(x,y,rows):#Function for report\n",
        "  accuracy = 0\n",
        "  for k in range(26):\n",
        "    target = k+1\n",
        "    theta = thetas[k]\n",
        "    for i in range(rows):\n",
        "      if y[i] == target:\n",
        "        y[i] = 1\n",
        "      else:\n",
        "        y[i] = 0\n",
        "    \n",
        "    hypo = np.dot(x, theta)\n",
        "    sigmoid1 = 1/(1+ np.exp(-1*hypo))\n",
        "\n",
        "    for i in range(rows):\n",
        "      if sigmoid1[i] > 0.5:\n",
        "        hypo[i] = 1\n",
        "      else:\n",
        "        hypo[i] = 0\n",
        "    sum1 = 0\n",
        "    for i in range(rows):\n",
        "      if hypo[i] == y[i] :\n",
        "        sum1+=1\n",
        "    accuracy+= (sum1/rows) * 100 #accuracy = (no of correctly prdicted cases / no of total cases) * 100\n",
        "  accuracy1 = accuracy/26\n",
        "  print(accuracy1)"
      ]
    },
    {
      "cell_type": "markdown",
      "source": [
        "Training The model"
      ],
      "metadata": {
        "id": "Kk3TrMUr2_8o"
      }
    },
    {
      "cell_type": "code",
      "execution_count": null,
      "metadata": {
        "colab": {
          "base_uri": "https://localhost:8080/"
        },
        "id": "RmIVzeMLylYO",
        "outputId": "c4effc28-503e-41cd-af6f-c9c65a3d54ea"
      },
      "outputs": [
        {
          "output_type": "stream",
          "name": "stdout",
          "text": [
            "0.1243799513628894\n",
            "0.00014124243108965093\n",
            "0.00014124243108965093\n",
            "0.00014124243108965093\n",
            "0.00014124243108965093\n",
            "0.00014124243108965093\n",
            "0.00014124243108965093\n",
            "0.00014124243108965093\n",
            "0.00014124243108965093\n",
            "0.00014124243108965093\n",
            "0.00014124243108965093\n",
            "0.00014124243108965093\n",
            "0.00014124243108965093\n",
            "0.00014124243108965093\n",
            "0.00014124243108965093\n",
            "0.00014124243108965093\n",
            "0.00014124243108965093\n",
            "0.00014124243108965093\n",
            "0.00014124243108965093\n",
            "0.00014124243108965093\n",
            "0.00014124243108965093\n",
            "0.00014124243108965093\n",
            "0.00014124243108965093\n",
            "0.00014124243108965093\n",
            "0.00014124243108965093\n",
            "0.00014124243108965093\n"
          ]
        }
      ],
      "source": [
        "thetas = []\n",
        "for i in range(26): #performing logistic regression for each letter\n",
        "  model = ML_logistic(0.00001,features,labels,200,data_rows,data_columns,i+1)\n",
        "  theta = model.Gradientdescent()\n",
        "  thetas.append(theta) "
      ]
    },
    {
      "cell_type": "markdown",
      "source": [
        "Importing data for testing"
      ],
      "metadata": {
        "id": "OcsHypI02olG"
      }
    },
    {
      "cell_type": "code",
      "execution_count": null,
      "metadata": {
        "id": "dED7kZJGzX3w"
      },
      "outputs": [],
      "source": [
        "data_test = pd.read_csv(\"/content/drive/MyDrive/Data for Woc/emnist-letters-test.csv\")\n",
        "data_rows1 = data_test.shape[0] #Getting no of rows of test data\n",
        "data_columns1 = data_test.shape[1] #Getting no rows of test data\n",
        "data_test = data_test.to_numpy() #Converting test data to numpy\n",
        "x_test = data_test[0:data_rows1 , 1:data_columns1] #X for test data\n",
        "y_test = data_test[0:data_rows1 , 0] #Y for test data"
      ]
    },
    {
      "cell_type": "markdown",
      "source": [
        "Testing the model on test data"
      ],
      "metadata": {
        "id": "1db1hpjm3Ezv"
      }
    },
    {
      "cell_type": "code",
      "source": [
        "report(x_test,y_test,data_rows1) #generating rmse after testing the model"
      ],
      "metadata": {
        "colab": {
          "base_uri": "https://localhost:8080/"
        },
        "id": "Urpin5-u8tlY",
        "outputId": "be7822ad-8ee5-4544-85eb-fd892dafa688"
      },
      "execution_count": null,
      "outputs": [
        {
          "output_type": "stream",
          "name": "stdout",
          "text": [
            "99.80170177818667\n"
          ]
        }
      ]
    }
  ],
  "metadata": {
    "accelerator": "TPU",
    "colab": {
      "collapsed_sections": [],
      "name": "logistic regression 2.ipynb",
      "provenance": [],
      "mount_file_id": "1oaOyzDpNDpi6aBire79TbmWs9_yPFuiI",
      "authorship_tag": "ABX9TyMLRu1T0CBWlghm3NuCJFPP",
      "include_colab_link": true
    },
    "kernelspec": {
      "display_name": "Python 3",
      "name": "python3"
    },
    "language_info": {
      "name": "python"
    }
  },
  "nbformat": 4,
  "nbformat_minor": 0
}