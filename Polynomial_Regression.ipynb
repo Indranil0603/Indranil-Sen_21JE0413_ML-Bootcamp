{
  "nbformat": 4,
  "nbformat_minor": 0,
  "metadata": {
    "colab": {
      "name": "Polynomial Regression.ipynb",
      "provenance": [],
      "collapsed_sections": [],
      "mount_file_id": "1KiytkCHNHqxBF5o3s-HOhLgwwaNirrnd",
      "authorship_tag": "ABX9TyM1xiQgsHQLcyQD+ncddgD4",
      "include_colab_link": true
    },
    "kernelspec": {
      "name": "python3",
      "display_name": "Python 3"
    },
    "language_info": {
      "name": "python"
    }
  },
  "cells": [
    {
      "cell_type": "markdown",
      "metadata": {
        "id": "view-in-github",
        "colab_type": "text"
      },
      "source": [
        "<a href=\"https://colab.research.google.com/github/Indranil0603/Indranil-Sen_21JE0413_ML-Bootcamp/blob/main/Polynomial_Regression.ipynb\" target=\"_parent\"><img src=\"https://colab.research.google.com/assets/colab-badge.svg\" alt=\"Open In Colab\"/></a>"
      ]
    },
    {
      "cell_type": "markdown",
      "source": [
        "Importing Libraries"
      ],
      "metadata": {
        "id": "B_lMWYg8FmgM"
      }
    },
    {
      "cell_type": "code",
      "execution_count": null,
      "metadata": {
        "id": "sfFdufPsFbmb"
      },
      "outputs": [],
      "source": [
        "import numpy as np\n",
        "import pandas as pd\n",
        "import matplotlib.pyplot as plt\n",
        "from pandas import DataFrame"
      ]
    },
    {
      "cell_type": "markdown",
      "source": [
        "Importing Training data"
      ],
      "metadata": {
        "id": "9hF4yIXrFutx"
      }
    },
    {
      "cell_type": "code",
      "source": [
        "data_train = pd.read_csv(\"/content/drive/MyDrive/Data for Woc/Polynomial_train.csv\")"
      ],
      "metadata": {
        "id": "WJTd4DmeFzPM"
      },
      "execution_count": null,
      "outputs": []
    },
    {
      "cell_type": "markdown",
      "source": [
        "Getting Number of rows and columns"
      ],
      "metadata": {
        "id": "b7-OjZSCGEii"
      }
    },
    {
      "cell_type": "code",
      "source": [
        "data_rows = data_train.shape[0]\n",
        "data_columns = data_train.shape[1]"
      ],
      "metadata": {
        "id": "N9U9TTn1GU_v"
      },
      "execution_count": null,
      "outputs": []
    },
    {
      "cell_type": "markdown",
      "source": [
        "Making array for features"
      ],
      "metadata": {
        "id": "Eh1_JE0dG3Qr"
      }
    },
    {
      "cell_type": "code",
      "source": [
        "features = data_train.drop([\"Unnamed: 0\", \"label\"], axis=1)"
      ],
      "metadata": {
        "id": "oaijUmtRG8DI"
      },
      "execution_count": null,
      "outputs": []
    },
    {
      "cell_type": "code",
      "source": [
        "features.to_numpy()\n",
        "t = features.copy()\n",
        "X = features['X']\n",
        "Y = features['Y']\n",
        "Z = features['Z']\n",
        "\n",
        "degrees =2\n",
        "for i in range(2,degrees+1) : #Adding columns of X^2, Y^2, Z^2 features\n",
        "  features = np.append(features, t**i, axis = 1)\n",
        "\n",
        "XY = np.array([np.multiply(X,Y),np.multiply(Y,Z),np.multiply(Z,X)])\n",
        "XY = np.transpose(XY)\n",
        "features= np.append(features,XY, axis = 1 )#Adding columns of XY, YZ, ZX to features"
      ],
      "metadata": {
        "id": "jwxRkgUoHN93"
      },
      "execution_count": null,
      "outputs": []
    },
    {
      "cell_type": "markdown",
      "source": [
        "Normalizing features"
      ],
      "metadata": {
        "id": "MNfXKHXvtyc2"
      }
    },
    {
      "cell_type": "code",
      "source": [
        "mu = np.mean(features, axis = 0) # calculating mean value of features\n",
        "stnd = np.std(features, axis = 0)# calculating standard daviations of features\n",
        "features1 = np.divide(features-mu, stnd) # normalizing the features"
      ],
      "metadata": {
        "id": "6NOgj_mwPpBz"
      },
      "execution_count": null,
      "outputs": []
    },
    {
      "cell_type": "markdown",
      "source": [
        "Adding Column of ones to X "
      ],
      "metadata": {
        "id": "_2CVBJprt7GA"
      }
    },
    {
      "cell_type": "code",
      "source": [
        "x_set = np.ones([data_rows,1], dtype = float)\n",
        "x_set = np.append(x_set,features1, axis = 1 )\n",
        "data_columns = x_set.shape[1] #Updating number of rows after addiing required columns to X"
      ],
      "metadata": {
        "id": "g3FodzulK2xA"
      },
      "execution_count": null,
      "outputs": []
    },
    {
      "cell_type": "markdown",
      "source": [
        "Making Array of labels"
      ],
      "metadata": {
        "id": "qf9eWhXXuSxp"
      }
    },
    {
      "cell_type": "code",
      "source": [
        "label = data_train[\"label\"]\n",
        "y_set = label\n",
        "y_set.to_numpy()"
      ],
      "metadata": {
        "colab": {
          "base_uri": "https://localhost:8080/"
        },
        "id": "9jKIVrVpPZ1a",
        "outputId": "0fe13839-83c7-4a12-e398-a08e6f1bd67b"
      },
      "execution_count": null,
      "outputs": [
        {
          "output_type": "execute_result",
          "data": {
            "text/plain": [
              "array([ 307.9729269 ,  136.39837542, -310.72481348, ...,  663.87365546,\n",
              "       -421.00400451, -699.71868166])"
            ]
          },
          "metadata": {},
          "execution_count": 62
        }
      ]
    },
    {
      "cell_type": "markdown",
      "source": [
        "Class for polynomial regression"
      ],
      "metadata": {
        "id": "mNuIak1IFOip"
      }
    },
    {
      "cell_type": "code",
      "source": [
        "class ML_Polynomial:\n",
        "  def __init__(self,learningrate, num_iters, X, Y, row, column):\n",
        "    self.LR = learningrate\n",
        "    self.n = num_iters\n",
        "    self.x_set = X\n",
        "    self.y_set = Y\n",
        "    self.n_rows = row\n",
        "    self.n_columns = column\n",
        "    self.theta = np.zeros(self.n_columns, dtype = int)#Making arra of theta\n",
        "\n",
        "  def costfunction(self):\n",
        "    self.predicted =  np.dot(self.x_set,self.theta)\n",
        "    self.difference =  (self.predicted - self.y_set)\n",
        "    self.cost = (1/(2*self.n_rows))*np.sum(np.square(self.difference))\n",
        "    plt.scatter(self.i,self.cost,c= \"blue\") #Making plot for the cost after each iteration\n",
        "   \n",
        "  def Gradient_descent(self):\n",
        "    for self.i in range(self.n):\n",
        "      self.costfunction()\n",
        "      self.predicted =  np.dot(self.x_set,self.theta)\n",
        "      self.slope = np.dot(np.transpose(self.x_set),self.difference)\n",
        "      self.theta = self.theta - ((self.LR/self.n_rows)*(self.slope))\n",
        "      self.theta[0] = self.theta[0] - ((self.LR/self.n_rows)*(np.sum(self.difference)))\n",
        "\n",
        "  def report(self,X,Y):\n",
        "    self.x_test = X\n",
        "    data_rows = self.x_test.shape[0]   \n",
        "    self.x_test1 =np.ones([data_rows,1], dtype = float)\n",
        "    self.x_test = np.divide((self.x_test - mu), stnd)\n",
        "    self.x_test1 = np.append(self.x_test1, self.x_test, axis = 1 )\n",
        "    self.y_test = Y\n",
        "    y_predicted = np.dot(self.x_test1 ,self.theta)  \n",
        "    difference = (y_predicted - self.y_test)\n",
        "    sumsq = np.sum(difference ** 2)\n",
        "    error = (sumsq/self.n_rows)**(0.5)\n",
        "    print(\"RMSE = \",error)"
      ],
      "metadata": {
        "id": "sycJgCiiQA1g"
      },
      "execution_count": null,
      "outputs": []
    },
    {
      "cell_type": "markdown",
      "source": [
        "Training theta on the given data"
      ],
      "metadata": {
        "id": "fWf-8fKxFCrw"
      }
    },
    {
      "cell_type": "code",
      "source": [
        "model = ML_Polynomial(0.08,2000,x_set,y_set,data_rows,data_columns)"
      ],
      "metadata": {
        "id": "7rgZNrOMQMhV"
      },
      "execution_count": null,
      "outputs": []
    },
    {
      "cell_type": "code",
      "source": [
        "model.Gradient_descent()"
      ],
      "metadata": {
        "colab": {
          "base_uri": "https://localhost:8080/",
          "height": 265
        },
        "id": "oEmlzx8LQPyd",
        "outputId": "1446ca72-c417-49c0-c9dc-0110814b2bbb"
      },
      "execution_count": null,
      "outputs": [
        {
          "output_type": "display_data",
          "data": {
            "text/plain": [
              "<Figure size 432x288 with 1 Axes>"
            ],
            "image/png": "[encoded data removed]"
          },
          "metadata": {
            "needs_background": "light"
          }
        }
      ]
    },
    {
      "cell_type": "code",
      "source": [
        "model.cost"
      ],
      "metadata": {
        "colab": {
          "base_uri": "https://localhost:8080/"
        },
        "id": "exRD7vehS0Er",
        "outputId": "fefc4600-f847-46b3-8e82-348f74afe7ca"
      },
      "execution_count": null,
      "outputs": [
        {
          "output_type": "execute_result",
          "data": {
            "text/plain": [
              "65.4327304699292"
            ]
          },
          "metadata": {},
          "execution_count": 68
        }
      ]
    },
    {
      "cell_type": "markdown",
      "source": [
        "Testing the trained theta on test data"
      ],
      "metadata": {
        "id": "CAw9THVZE4yc"
      }
    },
    {
      "cell_type": "code",
      "source": [
        "data_test = pd.read_csv('/content/drive/MyDrive/Data for Woc/Polynomial_train.csv')\n",
        "x_test = data_test.drop(['Unnamed: 0' , 'label'], axis = 1)\n",
        "x_test.to_numpy()\n",
        "\n",
        "t = x_test.copy()\n",
        "X = x_test['X']\n",
        "Y = x_test['Y']\n",
        "Z = x_test['Z']\n",
        "degrees =2\n",
        "for i in range(2, degrees+1) : #Adding columns of X^2, Y^2, Z^2 x-test\n",
        "  x_test = np.append(x_test, t**i, axis = 1)\n",
        "XY = np.array([np.multiply(X,Y),np.multiply(Y,Z),np.multiply(Z,X)])\n",
        "XY = np.transpose(XY)\n",
        "x_test= np.append(x_test,XY, axis = 1 )#Adding columns of XY, YZ, ZX to x-test\n",
        "\n",
        "y_test = data_test[\"label\"]\n",
        "y_test.to_numpy()\n",
        "model.report(x_test, y_test)"
      ],
      "metadata": {
        "colab": {
          "base_uri": "https://localhost:8080/"
        },
        "id": "GjOEBBrFQSQL",
        "outputId": "43a931bc-d27c-4003-de64-9da1aa1fadaa"
      },
      "execution_count": null,
      "outputs": [
        {
          "output_type": "stream",
          "name": "stdout",
          "text": [
            "11.439644266316082\n"
          ]
        }
      ]
    }
  ]
}