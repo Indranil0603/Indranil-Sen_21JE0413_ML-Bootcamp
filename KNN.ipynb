{
  "cells": [
    {
      "cell_type": "markdown",
      "metadata": {
        "id": "view-in-github",
        "colab_type": "text"
      },
      "source": [
        "<a href=\"https://colab.research.google.com/github/Indranil0603/Indranil-Sen_21JE0413_ML-Bootcamp/blob/main/KNN.ipynb\" target=\"_parent\"><img src=\"https://colab.research.google.com/assets/colab-badge.svg\" alt=\"Open In Colab\"/></a>"
      ]
    },
    {
      "cell_type": "markdown",
      "metadata": {
        "id": "U2ewyDUhS-fb"
      },
      "source": [
        "Importing libraraies"
      ]
    },
    {
      "cell_type": "code",
      "execution_count": null,
      "metadata": {
        "id": "c-l7ptqtS4Ua"
      },
      "outputs": [],
      "source": [
        "import numpy as np\n",
        "import pandas as pd\n",
        "import matplotlib.pyplot as plt"
      ]
    },
    {
      "cell_type": "markdown",
      "metadata": {
        "id": "ZP3OdDZQTGhS"
      },
      "source": [
        "Importing data"
      ]
    },
    {
      "cell_type": "code",
      "execution_count": null,
      "metadata": {
        "id": "Km3w9IIYUTuc"
      },
      "outputs": [],
      "source": [
        "data_train = pd.read_csv('/content/drive/MyDrive/Data for Woc/emnist-letters-train.csv') #reading training data \n",
        "data_test =  pd.read_csv('/content/drive/MyDrive/Data for Woc/emnist-letters-test.csv') #reading test data\n",
        "data_train = data_train.to_numpy()\n",
        "data_test = data_test.to_numpy()"
      ]
    },
    {
      "cell_type": "markdown",
      "source": [
        "Getting number of rows and collumns of training and test data"
      ],
      "metadata": {
        "id": "l5WuFVkhA9K6"
      }
    },
    {
      "cell_type": "code",
      "execution_count": null,
      "metadata": {
        "id": "lZHvgjdLhSzy"
      },
      "outputs": [],
      "source": [
        "data_train_rows = data_train.shape[0] #Getting no of rows of training data\n",
        "data_train_columns = data_train.shape[1] #Getting no of columns of training data\n",
        "data_test_rows = data_test.shape[0] #Getting no of rows of test data\n",
        "data_test_columns = data_test.shape[1] #Getting no of columns of test data"
      ]
    },
    {
      "cell_type": "markdown",
      "source": [
        "Making arrays for the labels and features of test and train data"
      ],
      "metadata": {
        "id": "5lEWZ6rJBEOA"
      }
    },
    {
      "cell_type": "code",
      "execution_count": null,
      "metadata": {
        "id": "kko1yiG_WXuf"
      },
      "outputs": [],
      "source": [
        "labels_train = data_train[0:data_train_rows, 0] #Making array of lables from training\n",
        "labels_test = data_test[0:data_test_rows, 0] #Making array of lables from test\n",
        "features_train = data_train[0:data_train_rows, 1:data_train_columns] #Making array of features from training\n",
        "features_test = data_test[0:data_test_rows, 1:data_test_columns] #Making array of features from test"
      ]
    },
    {
      "cell_type": "markdown",
      "source": [
        "Class for KNN"
      ],
      "metadata": {
        "id": "ybYdscyiBO_r"
      }
    },
    {
      "cell_type": "code",
      "execution_count": null,
      "metadata": {
        "id": "XylZxIb0V0aw"
      },
      "outputs": [],
      "source": [
        "class ML_KNN:\n",
        "  def __init__(self,x_train,x_test,y_train,y_test,k,rows1, rows2, columns1, columns2):\n",
        "    self.x_train = x_train\n",
        "    self.y_train = y_train\n",
        "    self.x_test = x_test\n",
        "    self.y_test = y_test\n",
        "    self.k = k\n",
        "    self.n_rows_train = rows1\n",
        "    self.n_rows_test  = rows2\n",
        "    self.n_columns_train = columns1\n",
        "    self.n_columns_test = columns2\n",
        "\n",
        "  def euiclidian(self,p1,p2): #Function for Eucladian distance \n",
        "    self.euclid_distance = np.sqrt(np.sum((p1-p2)**2))\n",
        "    return self.euclid_distance\n",
        "\n",
        "  def predictor(self): #Function for predicting the output of test data \n",
        "    self.distances = np.zeros([self.n_rows_train,1], dtype = int)\n",
        "    self.predicted = np.zeros([self.n_rows_test,1], dtype = int)\n",
        "    for i in range(self.n_rows_test):\n",
        "      for j in range(self.n_rows_train):\n",
        "        p1 = self.x_train[j ,0:self.n_columns_train] #Point from training data\n",
        "        p2 = self.x_test[i, 0:self.n_columns_test] #Test point\n",
        "        dist = self.euiclidian(p1,p2)\n",
        "        self.distances[j] = dist\n",
        "      sorted = np.argsort(self.distances,axis = 0)\n",
        "      sorted = sorted[0:self.k,0] #Sorted indexes corresponding to distance from th test point\n",
        "      toplabels = self.y_train[sorted] #Labels of data in order of distancet to the test point\n",
        "      vals,counts = np.unique(toplabels, return_counts = True)\n",
        "      index = np.argmax(counts)\n",
        "      self.predicted[i] = vals[index] #Mode of top k labels\n",
        "   \n",
        "  def report(self):#Function for getting th accuaracy \n",
        "    sum1 = 0\n",
        "    for i in range(self.n_rows_test):\n",
        "      if self.predicted[i] == self.y_test[i]:\n",
        "        sum1+=1\n",
        "    accuracy = (sum1/self.n_rows_test)*100\n",
        "    print(accuracy)\n"
      ]
    },
    {
      "cell_type": "markdown",
      "metadata": {
        "id": "u8hI584b7MQs"
      },
      "source": [
        "Training model"
      ]
    },
    {
      "cell_type": "code",
      "execution_count": null,
      "metadata": {
        "id": "yRR9TDMSwgQI"
      },
      "outputs": [],
      "source": [
        "model = ML_KNN(features_train, features_test,labels_train,labels_test,200,data_train_rows, data_test_rows,data_train_columns,data_test_columns)\n"
      ]
    },
    {
      "cell_type": "markdown",
      "source": [
        "Training model"
      ],
      "metadata": {
        "id": "82vP9JqifQkT"
      }
    },
    {
      "cell_type": "code",
      "execution_count": null,
      "metadata": {
        "id": "CqPb7zNWYKUp"
      },
      "outputs": [],
      "source": [
        "model.predictor()"
      ]
    },
    {
      "cell_type": "markdown",
      "source": [
        "Getting accuracy"
      ],
      "metadata": {
        "id": "wXThjnMMfS-F"
      }
    },
    {
      "cell_type": "code",
      "source": [
        "model.report()"
      ],
      "metadata": {
        "id": "16MB6eCU-mwt"
      },
      "execution_count": null,
      "outputs": []
    }
  ],
  "metadata": {
    "colab": {
      "collapsed_sections": [],
      "name": "KNN.ipynb",
      "provenance": [],
      "mount_file_id": "1ati5wVt27oS024CfPeekVWoD3KadHa3U",
      "authorship_tag": "ABX9TyOT4mCaPXdPhI79MQO3hVDZ",
      "include_colab_link": true
    },
    "kernelspec": {
      "display_name": "Python 3",
      "name": "python3"
    },
    "language_info": {
      "name": "python"
    }
  },
  "nbformat": 4,
  "nbformat_minor": 0
}