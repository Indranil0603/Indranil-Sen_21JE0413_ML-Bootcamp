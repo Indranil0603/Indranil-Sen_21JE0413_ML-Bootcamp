{
  "cells": [
    {
      "cell_type": "markdown",
      "metadata": {
        "id": "view-in-github",
        "colab_type": "text"
      },
      "source": [
        "<a href=\"https://colab.research.google.com/github/Indranil0603/Indranil-Sen_21JE0413_ML-Bootcamp/blob/main/linear_regression.ipynb\" target=\"_parent\"><img src=\"https://colab.research.google.com/assets/colab-badge.svg\" alt=\"Open In Colab\"/></a>"
      ]
    },
    {
      "cell_type": "markdown",
      "metadata": {
        "id": "-bSnPHKOsiUy"
      },
      "source": [
        "Importing libraries"
      ]
    },
    {
      "cell_type": "code",
      "execution_count": null,
      "metadata": {
        "id": "MrDFA24rq-2P"
      },
      "outputs": [],
      "source": [
        "import numpy as np\n",
        "import pandas as pd\n",
        "import matplotlib.pyplot as plt\n",
        "from pandas import DataFrame"
      ]
    },
    {
      "cell_type": "markdown",
      "metadata": {
        "id": "aY9eTWF9ssd7"
      },
      "source": [
        "Importing Training Data"
      ]
    },
    {
      "cell_type": "code",
      "execution_count": null,
      "metadata": {
        "id": "2G4KcuqkKPsf"
      },
      "outputs": [],
      "source": [
        "data_train = pd.read_csv('/content/drive/MyDrive/Data for Woc/Linear_train.csv')"
      ]
    },
    {
      "cell_type": "markdown",
      "metadata": {
        "id": "y8py8SENs57_"
      },
      "source": [
        "Getting Number of rows and Columns "
      ]
    },
    {
      "cell_type": "code",
      "execution_count": null,
      "metadata": {
        "id": "dohWnCro3Hcy"
      },
      "outputs": [],
      "source": [
        "data_rows = data_train.shape[0]\n",
        "data_columns = data_train.shape[1]"
      ]
    },
    {
      "cell_type": "markdown",
      "metadata": {
        "id": "iovGM2vK41fB"
      },
      "source": [
        "\n",
        "Making array for features"
      ]
    },
    {
      "cell_type": "code",
      "execution_count": null,
      "metadata": {
        "id": "x_OAvOx440zR"
      },
      "outputs": [],
      "source": [
        "features = data_train.drop(['Unnamed: 0' , 'label'], axis = 1)"
      ]
    },
    {
      "cell_type": "markdown",
      "source": [
        "Normalizing the Features"
      ],
      "metadata": {
        "id": "7NKuFbMOCDm6"
      }
    },
    {
      "cell_type": "code",
      "execution_count": null,
      "metadata": {
        "id": "TCXFvqaH9Mr5"
      },
      "outputs": [],
      "source": [
        "mu = np.mean(features, axis = 0) # calculating mean value of features\n",
        "stnd = np.std(features, axis = 0)# calculating standard daviations of features\n",
        "x_set = np.divide(features-mu, stnd) # normalizing the features"
      ]
    },
    {
      "cell_type": "markdown",
      "source": [
        "Adding a column of ones to the matrix of X"
      ],
      "metadata": {
        "id": "3Xxg_5mlCJG9"
      }
    },
    {
      "cell_type": "code",
      "execution_count": null,
      "metadata": {
        "id": "edZR3i6Wz8JA"
      },
      "outputs": [],
      "source": [
        "fit = np.ones(data_rows , dtype= float) # The matrix of ones"
      ]
    },
    {
      "cell_type": "code",
      "execution_count": null,
      "metadata": {
        "id": "Vi-cU1X31p7c"
      },
      "outputs": [],
      "source": [
        "x_set.insert(0, \"ones\", fit) # matrix of ones added to the X matrix"
      ]
    },
    {
      "cell_type": "code",
      "execution_count": null,
      "metadata": {
        "colab": {
          "base_uri": "https://localhost:8080/"
        },
        "id": "BYKDym3q2yLP",
        "outputId": "0b8c8357-3290-47e1-96ff-ce19df89d043"
      },
      "outputs": [
        {
          "output_type": "execute_result",
          "data": {
            "text/plain": [
              "array([[ 1.        , -0.34799407,  0.22031433, ..., -0.15582334,\n",
              "         1.0052814 ,  1.00876462],\n",
              "       [ 1.        , -0.61114616,  0.19984917, ...,  1.29439989,\n",
              "         0.44683234, -1.12340336],\n",
              "       [ 1.        , -0.98256011, -0.67757616, ..., -0.20664643,\n",
              "         0.52015407, -1.18447479],\n",
              "       ...,\n",
              "       [ 1.        , -0.924919  , -1.45426802, ...,  0.8468317 ,\n",
              "         0.41256961, -1.21414073],\n",
              "       [ 1.        ,  1.71021016, -0.28618815, ..., -0.95334269,\n",
              "         1.31811777, -0.36359261],\n",
              "       [ 1.        , -0.90157434,  0.61791579, ..., -1.63664414,\n",
              "        -0.1163058 , -1.67297842]])"
            ]
          },
          "metadata": {},
          "execution_count": 8
        }
      ],
      "source": [
        "x_set.to_numpy() #converting X to numpy array"
      ]
    },
    {
      "cell_type": "markdown",
      "metadata": {
        "id": "T5-lT0R42DzW"
      },
      "source": [
        "Making array of labels"
      ]
    },
    {
      "cell_type": "code",
      "execution_count": null,
      "metadata": {
        "id": "TF1ySivT18gs"
      },
      "outputs": [],
      "source": [
        "label = data_train[\"label\"]"
      ]
    },
    {
      "cell_type": "code",
      "execution_count": null,
      "metadata": {
        "id": "_OB46KZc3DDp"
      },
      "outputs": [],
      "source": [
        "y_set = label.to_numpy() # Converting label to numpy array"
      ]
    },
    {
      "cell_type": "markdown",
      "source": [
        "Class for Linear Regression Functions"
      ],
      "metadata": {
        "id": "UVPbPC8BDE0E"
      }
    },
    {
      "cell_type": "code",
      "execution_count": null,
      "metadata": {
        "id": "qDwo0REw3HbX"
      },
      "outputs": [],
      "source": [
        "class ML_linear:\n",
        "  def __init__(self,learningrate, num_iters, X, Y, row, column):\n",
        "    self.LR = learningrate\n",
        "    self.n = num_iters\n",
        "    self.x_set = X\n",
        "    self.y_set = Y\n",
        "    self.n_rows = row\n",
        "    self.n_columns = column-1\n",
        "    self.theta = np.zeros(self.n_columns, dtype = int)\n",
        "\n",
        "\n",
        "  def costfunction(self):#Function for calculating cost \n",
        "    self.predicted =  np.dot(self.x_set,self.theta)\n",
        "    self.difference =  (self.predicted - self.y_set)\n",
        "    self.cost = (1/(2*self.n_rows))*np.sum(np.square(self.difference))\n",
        "    plt.scatter(self.i,self.cost,c= \"blue\") \n",
        "  \n",
        "  def Gradient_descent(self):#Function for gradient descent\n",
        "    for self.i in range(self.n):\n",
        "      self.costfunction()\n",
        "      self.predicted =  np.dot(self.x_set,self.theta)\n",
        "      self.slope = np.dot(np.transpose(self.x_set),self.difference)\n",
        "      self.theta = self.theta - ((self.LR/self.n_rows)*(self.slope))\n",
        "      self.theta[0] = self.theta[0] - ((self.LR/self.n_rows)*(np.sum(self.difference)))\n",
        "\n",
        "  def report(self,X,Y): #Function for testing the model and generate a report\n",
        "    self.x_test = X\n",
        "    fit1 = np.ones(data_test.shape[0], dtype = int)\n",
        "    self.x_test = np.divide((X - mu), stnd)\n",
        "    self.x_test.insert(0, \"ones\", fit1)\n",
        "    self.x_test.to_numpy()\n",
        "    self.y_test = Y\n",
        "    y_predicted = np.dot(self.x_test ,self.theta)    \n",
        "    difference = (y_predicted - self.y_test)\n",
        "    sumsq = np.sum(difference ** 2)\n",
        "    error = (sumsq/self.n_rows)**(0.5)\n",
        "    print(\"RMSE = \",error)"
      ]
    },
    {
      "cell_type": "markdown",
      "source": [
        "Initializing the model for given data"
      ],
      "metadata": {
        "id": "JU1yrlryDL_b"
      }
    },
    {
      "cell_type": "code",
      "execution_count": null,
      "metadata": {
        "id": "dS3UyWt_KCXb"
      },
      "outputs": [],
      "source": [
        "model = ML_linear(0.05,1000,x_set,y_set,data_rows,data_columns)"
      ]
    },
    {
      "cell_type": "markdown",
      "metadata": {
        "id": "0jHcbsFrNsGo"
      },
      "source": [
        "Training the model by Gradient Descent and Plotting the cost for all Iterations"
      ]
    },
    {
      "cell_type": "code",
      "source": [
        "model.Gradient_descent()"
      ],
      "metadata": {
        "colab": {
          "base_uri": "https://localhost:8080/",
          "height": 276
        },
        "id": "MPV_kiUIUbEh",
        "outputId": "e0b7aa27-ea01-494e-8cb2-5fd73be08f79"
      },
      "execution_count": null,
      "outputs": [
        {
          "output_type": "display_data",
          "data": {
            "text/plain": [
              "<Figure size 432x288 with 1 Axes>"
            ],
            "image/png": "[encoded data removed]"
          },
          "metadata": {
            "needs_background": "light"
          }
        }
      ]
    },
    {
      "cell_type": "markdown",
      "source": [
        "Testing the model on testing data"
      ],
      "metadata": {
        "id": "Nu3LyP5hD9m9"
      }
    },
    {
      "cell_type": "code",
      "execution_count": null,
      "metadata": {
        "colab": {
          "base_uri": "https://localhost:8080/"
        },
        "id": "oBbQ6jHjLsO9",
        "outputId": "335e236c-ae0d-4b78-9771-845815446c33"
      },
      "outputs": [
        {
          "output_type": "stream",
          "name": "stdout",
          "text": [
            "RMSE =  0.8178139306926703\n"
          ]
        }
      ],
      "source": [
        "data_test = pd.read_csv('/content/drive/MyDrive/Data for Woc/Linear_test.csv')\n",
        "x_test = data_test.drop(['Unnamed: 0' , 'label'], axis = 1)\n",
        "y_test = data_test[\"label\"]\n",
        "y_test.to_numpy()\n",
        "model.report(x_test, y_test)"
      ]
    },
    {
      "cell_type": "code",
      "source": [
        " model.cost"
      ],
      "metadata": {
        "colab": {
          "base_uri": "https://localhost:8080/"
        },
        "id": "XnCEd4eFk6Cm",
        "outputId": "9f96be61-6b67-49b7-dd02-c1c407333d61"
      },
      "execution_count": null,
      "outputs": [
        {
          "output_type": "execute_result",
          "data": {
            "text/plain": [
              "1907.0986737789888"
            ]
          },
          "metadata": {},
          "execution_count": 15
        }
      ]
    }
  ],
  "metadata": {
    "colab": {
      "collapsed_sections": [],
      "name": "linear regression.ipynb",
      "provenance": [],
      "mount_file_id": "1adQgCfoynSckZ_oUymfVHWljizZwwjXn",
      "authorship_tag": "ABX9TyP3kpWkxJosSKDGaT2Kn2GM",
      "include_colab_link": true
    },
    "kernelspec": {
      "display_name": "Python 3",
      "name": "python3"
    },
    "language_info": {
      "name": "python"
    }
  },
  "nbformat": 4,
  "nbformat_minor": 0
}